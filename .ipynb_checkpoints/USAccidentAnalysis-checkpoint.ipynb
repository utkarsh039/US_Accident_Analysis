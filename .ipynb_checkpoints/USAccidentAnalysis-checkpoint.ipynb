{
 "cells": [
  {
   "cell_type": "markdown",
   "metadata": {},
   "source": [
    "# Accident Data"
   ]
  },
  {
   "cell_type": "code",
   "execution_count": 14,
   "metadata": {},
   "outputs": [],
   "source": [
    "# imports\n",
    "from pyspark.sql import SparkSession, Window\n",
    "from pyspark.sql.functions import *\n",
    "import pyspark.pandas as ps\n",
    "from pyspark.sql.functions import col"
   ]
  },
  {
   "cell_type": "code",
   "execution_count": 2,
   "metadata": {},
   "outputs": [],
   "source": [
    "spark = SparkSession \\\n",
    "        .builder \\\n",
    "        .master(\"local\")\\\n",
    "        .appName(\"USAccidentAnalysis\") \\\n",
    "        .getOrCreate()"
   ]
  },
  {
   "cell_type": "code",
   "execution_count": 3,
   "metadata": {},
   "outputs": [],
   "source": [
    "df_charges = spark.read.csv(\"Data/Charges_use.csv\", header=True)\n",
    "df_damages = spark.read.csv(\"Data/Damages_use.csv\", header=True)\n",
    "df_endorse = spark.read.csv(\"Data/Endorse_use.csv\", header=True)\n",
    "df_pp = spark.read.csv(\"Data/Primary_Person_use.csv\", header=True)\n",
    "df_restrict = spark.read.csv(\"Data/Restrict_use.csv\", header=True)\n",
    "df_units = spark.read.csv(\"Data/Units_use.csv\", header=True)"
   ]
  },
  {
   "cell_type": "code",
   "execution_count": 4,
   "metadata": {},
   "outputs": [
    {
     "name": "stdout",
     "output_type": "stream",
     "text": [
      "+--------+--------+--------+----------------------------------------+------------+\n",
      "|CRASH_ID|UNIT_NBR|PRSN_NBR|CHARGE                                  |CITATION_NBR|\n",
      "+--------+--------+--------+----------------------------------------+------------+\n",
      "|14768622|1       |1       |DRIVING WHILE INTOXICATED               |null        |\n",
      "|14838637|1       |1       |DWI                                     |1600000015  |\n",
      "|14838641|1       |1       |RAN RED LIGHT SOLID (TC 544.007)        |L20440      |\n",
      "|14838641|2       |1       |NO DRIVER'S LICENSE (TC521.025)         |L23141      |\n",
      "|14838668|1       |1       |DRIVING WHILE INTOXICATED               |TX4IC50SRJD3|\n",
      "|14838669|2       |1       |DWI W/BAC >.015                         |2015-000006 |\n",
      "|14838670|1       |1       |DRIVING WHILE INTOXICATED               |2016-000003 |\n",
      "|14838685|1       |1       |FAILED TO DRIVE SINGLE LANE, NOL, NO INS|138434825   |\n",
      "|14838693|1       |1       |DRIVING WHILE INTOXICATED               |TX4IC60UKQND|\n",
      "|14838768|2       |1       |DWI                                     |null        |\n",
      "|14838834|1       |1       |NO DRIVERS LICENSE                      |10019200    |\n",
      "|14838834|1       |1       |FAIL TO CONTROL SPEED                   |10019200    |\n",
      "|14838834|1       |1       |LEAVING THE SCENE                       |10019200    |\n",
      "|14838841|1       |1       |FTLI   / DWLI                           |16-43861    |\n",
      "|14838841|1       |1       |LEAVING SCENE OF ACCIDENT               |16-43861    |\n",
      "|14838841|1       |1       |FAIL TO DRIVE IN SINGLE LANE            |16-43861    |\n",
      "|14838841|1       |1       |FAIL TO REPORT ACCIDENT                 |16-43861    |\n",
      "|14838842|1       |1       |LEAVING SCENE OF ACCIDENT               |16-43859    |\n",
      "|14838842|1       |1       |FAIL TO REPORT ACCIDENT                 |16-43859    |\n",
      "|14838842|1       |1       |FAIL TO DRIVE IN SINGLE LANE            |16-43859    |\n",
      "+--------+--------+--------+----------------------------------------+------------+\n",
      "only showing top 20 rows\n",
      "\n"
     ]
    }
   ],
   "source": [
    "df_charges.show(truncate=False)"
   ]
  },
  {
   "cell_type": "code",
   "execution_count": 5,
   "metadata": {},
   "outputs": [
    {
     "name": "stdout",
     "output_type": "stream",
     "text": [
      "+--------+--------------------------------------+\n",
      "|CRASH_ID|DAMAGED_PROPERTY                      |\n",
      "+--------+--------------------------------------+\n",
      "|14768622|MAILBOX                               |\n",
      "|14768622|YARD, GRASS                           |\n",
      "|14838668|GUARDRAIL                             |\n",
      "|14838685|ROAD SIGN                             |\n",
      "|14838693|2009 MAZDA 3                          |\n",
      "|14838834|CHAIN LINK FENCE                      |\n",
      "|14838841|WOODED POLE ON SOUTH SIDE OF LOOP     |\n",
      "|14838842|CITY SIGN FOR TURN LANES              |\n",
      "|14838877|FENCE-CHAIN LINK                      |\n",
      "|14838977|LANDSCAPING AND METAL SIGN            |\n",
      "|14839047|APARTMENT BUILDING                    |\n",
      "|14839047|STREET SIGN                           |\n",
      "|14839048|HOUSE                                 |\n",
      "|14839314|LIGHT POLE                            |\n",
      "|14839330|MINOR DAMAGE TO WOODEN POLE           |\n",
      "|14839442|CITY OF SAN ANTONIO ALLAN WARRICK SIGN|\n",
      "|14839472|METAL POLES                           |\n",
      "|14839517|WATER ATTENUATOR                      |\n",
      "|14839519|UTILITY POST                          |\n",
      "|14839551|30 FEET OF GUARDRAIL                  |\n",
      "+--------+--------------------------------------+\n",
      "only showing top 20 rows\n",
      "\n"
     ]
    }
   ],
   "source": [
    "df_damages.show(truncate=False)"
   ]
  },
  {
   "cell_type": "code",
   "execution_count": 6,
   "metadata": {},
   "outputs": [
    {
     "name": "stdout",
     "output_type": "stream",
     "text": [
      "+--------+--------+------------------+\n",
      "|CRASH_ID|UNIT_NBR|DRVR_LIC_ENDORS_ID|\n",
      "+--------+--------+------------------+\n",
      "|14768622|1       |NONE              |\n",
      "|14838637|1       |NONE              |\n",
      "|14838637|2       |NONE              |\n",
      "|14838641|1       |NONE              |\n",
      "|14838641|2       |UNLICENSED        |\n",
      "|14838668|1       |NONE              |\n",
      "|14838669|1       |NONE              |\n",
      "|14838669|2       |NONE              |\n",
      "|14838670|1       |NONE              |\n",
      "|14838685|1       |UNLICENSED        |\n",
      "|14838693|1       |NONE              |\n",
      "|14838768|1       |OTHER/OUT OF STATE|\n",
      "|14838768|2       |NONE              |\n",
      "|14838834|1       |UNKNOWN           |\n",
      "|14838841|1       |NONE              |\n",
      "|14838842|1       |NONE              |\n",
      "|14838842|2       |NONE              |\n",
      "|14838866|1       |NONE              |\n",
      "|14838877|1       |NONE              |\n",
      "|14838972|1       |NONE              |\n",
      "+--------+--------+------------------+\n",
      "only showing top 20 rows\n",
      "\n"
     ]
    }
   ],
   "source": [
    "df_endorse.show(truncate=0)"
   ]
  },
  {
   "cell_type": "code",
   "execution_count": 7,
   "metadata": {},
   "outputs": [
    {
     "data": {
      "text/html": [
       "<div>\n",
       "<style scoped>\n",
       "    .dataframe tbody tr th:only-of-type {\n",
       "        vertical-align: middle;\n",
       "    }\n",
       "\n",
       "    .dataframe tbody tr th {\n",
       "        vertical-align: top;\n",
       "    }\n",
       "\n",
       "    .dataframe thead th {\n",
       "        text-align: right;\n",
       "    }\n",
       "</style>\n",
       "<table border=\"1\" class=\"dataframe\">\n",
       "  <thead>\n",
       "    <tr style=\"text-align: right;\">\n",
       "      <th></th>\n",
       "      <th>CRASH_ID</th>\n",
       "      <th>UNIT_NBR</th>\n",
       "      <th>PRSN_NBR</th>\n",
       "      <th>PRSN_TYPE_ID</th>\n",
       "      <th>PRSN_OCCPNT_POS_ID</th>\n",
       "      <th>PRSN_INJRY_SEV_ID</th>\n",
       "      <th>PRSN_AGE</th>\n",
       "      <th>PRSN_ETHNICITY_ID</th>\n",
       "      <th>PRSN_GNDR_ID</th>\n",
       "      <th>PRSN_EJCT_ID</th>\n",
       "      <th>...</th>\n",
       "      <th>NONINCAP_INJRY_CNT</th>\n",
       "      <th>POSS_INJRY_CNT</th>\n",
       "      <th>NON_INJRY_CNT</th>\n",
       "      <th>UNKN_INJRY_CNT</th>\n",
       "      <th>TOT_INJRY_CNT</th>\n",
       "      <th>DEATH_CNT</th>\n",
       "      <th>DRVR_LIC_TYPE_ID</th>\n",
       "      <th>DRVR_LIC_STATE_ID</th>\n",
       "      <th>DRVR_LIC_CLS_ID</th>\n",
       "      <th>DRVR_ZIP</th>\n",
       "    </tr>\n",
       "  </thead>\n",
       "  <tbody>\n",
       "    <tr>\n",
       "      <th>0</th>\n",
       "      <td>14768622</td>\n",
       "      <td>1</td>\n",
       "      <td>1</td>\n",
       "      <td>DRIVER</td>\n",
       "      <td>FRONT LEFT</td>\n",
       "      <td>NOT INJURED</td>\n",
       "      <td>27</td>\n",
       "      <td>HISPANIC</td>\n",
       "      <td>MALE</td>\n",
       "      <td>NO</td>\n",
       "      <td>...</td>\n",
       "      <td>0</td>\n",
       "      <td>0</td>\n",
       "      <td>1</td>\n",
       "      <td>0</td>\n",
       "      <td>0</td>\n",
       "      <td>0</td>\n",
       "      <td>DRIVER LICENSE</td>\n",
       "      <td>Texas</td>\n",
       "      <td>CLASS C</td>\n",
       "      <td>77357</td>\n",
       "    </tr>\n",
       "    <tr>\n",
       "      <th>1</th>\n",
       "      <td>14838637</td>\n",
       "      <td>1</td>\n",
       "      <td>1</td>\n",
       "      <td>DRIVER</td>\n",
       "      <td>FRONT LEFT</td>\n",
       "      <td>NOT INJURED</td>\n",
       "      <td>31</td>\n",
       "      <td>WHITE</td>\n",
       "      <td>MALE</td>\n",
       "      <td>NO</td>\n",
       "      <td>...</td>\n",
       "      <td>0</td>\n",
       "      <td>0</td>\n",
       "      <td>1</td>\n",
       "      <td>0</td>\n",
       "      <td>0</td>\n",
       "      <td>0</td>\n",
       "      <td>DRIVER LICENSE</td>\n",
       "      <td>New York</td>\n",
       "      <td>OTHER/OUT OF STATE</td>\n",
       "      <td>13830</td>\n",
       "    </tr>\n",
       "    <tr>\n",
       "      <th>2</th>\n",
       "      <td>14838637</td>\n",
       "      <td>2</td>\n",
       "      <td>1</td>\n",
       "      <td>DRIVER</td>\n",
       "      <td>FRONT LEFT</td>\n",
       "      <td>NOT INJURED</td>\n",
       "      <td>41</td>\n",
       "      <td>BLACK</td>\n",
       "      <td>MALE</td>\n",
       "      <td>NO</td>\n",
       "      <td>...</td>\n",
       "      <td>0</td>\n",
       "      <td>0</td>\n",
       "      <td>1</td>\n",
       "      <td>0</td>\n",
       "      <td>0</td>\n",
       "      <td>0</td>\n",
       "      <td>COMMERCIAL DRIVER LIC.</td>\n",
       "      <td>Texas</td>\n",
       "      <td>CLASS A</td>\n",
       "      <td>78934</td>\n",
       "    </tr>\n",
       "    <tr>\n",
       "      <th>3</th>\n",
       "      <td>14838641</td>\n",
       "      <td>1</td>\n",
       "      <td>1</td>\n",
       "      <td>DRIVER</td>\n",
       "      <td>FRONT LEFT</td>\n",
       "      <td>POSSIBLE INJURY</td>\n",
       "      <td>32</td>\n",
       "      <td>WHITE</td>\n",
       "      <td>MALE</td>\n",
       "      <td>NO</td>\n",
       "      <td>...</td>\n",
       "      <td>0</td>\n",
       "      <td>1</td>\n",
       "      <td>0</td>\n",
       "      <td>0</td>\n",
       "      <td>1</td>\n",
       "      <td>0</td>\n",
       "      <td>DRIVER LICENSE</td>\n",
       "      <td>Texas</td>\n",
       "      <td>CLASS C</td>\n",
       "      <td>76520</td>\n",
       "    </tr>\n",
       "    <tr>\n",
       "      <th>4</th>\n",
       "      <td>14838641</td>\n",
       "      <td>2</td>\n",
       "      <td>1</td>\n",
       "      <td>DRIVER</td>\n",
       "      <td>FRONT LEFT</td>\n",
       "      <td>NON-INCAPACITATING INJURY</td>\n",
       "      <td>34</td>\n",
       "      <td>BLACK</td>\n",
       "      <td>FEMALE</td>\n",
       "      <td>NO</td>\n",
       "      <td>...</td>\n",
       "      <td>1</td>\n",
       "      <td>0</td>\n",
       "      <td>0</td>\n",
       "      <td>0</td>\n",
       "      <td>1</td>\n",
       "      <td>0</td>\n",
       "      <td>ID CARD</td>\n",
       "      <td>Texas</td>\n",
       "      <td>UNLICENSED</td>\n",
       "      <td>76707</td>\n",
       "    </tr>\n",
       "  </tbody>\n",
       "</table>\n",
       "<p>5 rows × 32 columns</p>\n",
       "</div>"
      ],
      "text/plain": [
       "   CRASH_ID UNIT_NBR PRSN_NBR PRSN_TYPE_ID PRSN_OCCPNT_POS_ID  \\\n",
       "0  14768622        1        1       DRIVER         FRONT LEFT   \n",
       "1  14838637        1        1       DRIVER         FRONT LEFT   \n",
       "2  14838637        2        1       DRIVER         FRONT LEFT   \n",
       "3  14838641        1        1       DRIVER         FRONT LEFT   \n",
       "4  14838641        2        1       DRIVER         FRONT LEFT   \n",
       "\n",
       "           PRSN_INJRY_SEV_ID PRSN_AGE PRSN_ETHNICITY_ID PRSN_GNDR_ID  \\\n",
       "0                NOT INJURED       27          HISPANIC         MALE   \n",
       "1                NOT INJURED       31             WHITE         MALE   \n",
       "2                NOT INJURED       41             BLACK         MALE   \n",
       "3            POSSIBLE INJURY       32             WHITE         MALE   \n",
       "4  NON-INCAPACITATING INJURY       34             BLACK       FEMALE   \n",
       "\n",
       "  PRSN_EJCT_ID  ... NONINCAP_INJRY_CNT POSS_INJRY_CNT NON_INJRY_CNT  \\\n",
       "0           NO  ...                  0              0             1   \n",
       "1           NO  ...                  0              0             1   \n",
       "2           NO  ...                  0              0             1   \n",
       "3           NO  ...                  0              1             0   \n",
       "4           NO  ...                  1              0             0   \n",
       "\n",
       "  UNKN_INJRY_CNT TOT_INJRY_CNT DEATH_CNT        DRVR_LIC_TYPE_ID  \\\n",
       "0              0             0         0          DRIVER LICENSE   \n",
       "1              0             0         0          DRIVER LICENSE   \n",
       "2              0             0         0  COMMERCIAL DRIVER LIC.   \n",
       "3              0             1         0          DRIVER LICENSE   \n",
       "4              0             1         0                 ID CARD   \n",
       "\n",
       "  DRVR_LIC_STATE_ID     DRVR_LIC_CLS_ID DRVR_ZIP  \n",
       "0             Texas             CLASS C    77357  \n",
       "1          New York  OTHER/OUT OF STATE    13830  \n",
       "2             Texas             CLASS A    78934  \n",
       "3             Texas             CLASS C    76520  \n",
       "4             Texas          UNLICENSED    76707  \n",
       "\n",
       "[5 rows x 32 columns]"
      ]
     },
     "execution_count": 7,
     "metadata": {},
     "output_type": "execute_result"
    }
   ],
   "source": [
    "#df_pp.show(truncate=False)\n",
    "df_pp.limit(5).toPandas().head()"
   ]
  },
  {
   "cell_type": "code",
   "execution_count": 8,
   "metadata": {},
   "outputs": [
    {
     "name": "stdout",
     "output_type": "stream",
     "text": [
      "+--------+--------+----------------------+\n",
      "|CRASH_ID|UNIT_NBR|DRVR_LIC_RESTRIC_ID   |\n",
      "+--------+--------+----------------------+\n",
      "|14768622|1       |NONE                  |\n",
      "|14838637|1       |OTHER/OUT OF STATE    |\n",
      "|14838637|2       |NONE                  |\n",
      "|14838641|1       |WITH CORRECTIVE LENSES|\n",
      "|14838641|2       |UNLICENSED            |\n",
      "|14838668|1       |NONE                  |\n",
      "|14838669|1       |NONE                  |\n",
      "|14838669|2       |WITH CORRECTIVE LENSES|\n",
      "|14838670|1       |NONE                  |\n",
      "|14838685|1       |UNLICENSED            |\n",
      "|14838693|1       |NONE                  |\n",
      "|14838768|1       |OTHER/OUT OF STATE    |\n",
      "|14838768|2       |WITH CORRECTIVE LENSES|\n",
      "|14838834|1       |UNKNOWN               |\n",
      "|14838841|1       |WITH CORRECTIVE LENSES|\n",
      "|14838842|1       |NONE                  |\n",
      "|14838842|2       |NONE                  |\n",
      "|14838866|1       |NONE                  |\n",
      "|14838877|1       |NONE                  |\n",
      "|14838972|1       |NONE                  |\n",
      "+--------+--------+----------------------+\n",
      "only showing top 20 rows\n",
      "\n"
     ]
    }
   ],
   "source": [
    "df_restrict.show(truncate=0)"
   ]
  },
  {
   "cell_type": "code",
   "execution_count": 9,
   "metadata": {},
   "outputs": [
    {
     "data": {
      "text/html": [
       "<div>\n",
       "<style scoped>\n",
       "    .dataframe tbody tr th:only-of-type {\n",
       "        vertical-align: middle;\n",
       "    }\n",
       "\n",
       "    .dataframe tbody tr th {\n",
       "        vertical-align: top;\n",
       "    }\n",
       "\n",
       "    .dataframe thead th {\n",
       "        text-align: right;\n",
       "    }\n",
       "</style>\n",
       "<table border=\"1\" class=\"dataframe\">\n",
       "  <thead>\n",
       "    <tr style=\"text-align: right;\">\n",
       "      <th></th>\n",
       "      <th>CRASH_ID</th>\n",
       "      <th>UNIT_NBR</th>\n",
       "      <th>UNIT_DESC_ID</th>\n",
       "      <th>VEH_PARKED_FL</th>\n",
       "      <th>VEH_HNR_FL</th>\n",
       "      <th>VEH_LIC_STATE_ID</th>\n",
       "      <th>VIN</th>\n",
       "      <th>VEH_MOD_YEAR</th>\n",
       "      <th>VEH_COLOR_ID</th>\n",
       "      <th>VEH_MAKE_ID</th>\n",
       "      <th>...</th>\n",
       "      <th>CONTRIB_FACTR_P1_ID</th>\n",
       "      <th>VEH_TRVL_DIR_ID</th>\n",
       "      <th>FIRST_HARM_EVT_INV_ID</th>\n",
       "      <th>INCAP_INJRY_CNT</th>\n",
       "      <th>NONINCAP_INJRY_CNT</th>\n",
       "      <th>POSS_INJRY_CNT</th>\n",
       "      <th>NON_INJRY_CNT</th>\n",
       "      <th>UNKN_INJRY_CNT</th>\n",
       "      <th>TOT_INJRY_CNT</th>\n",
       "      <th>DEATH_CNT</th>\n",
       "    </tr>\n",
       "  </thead>\n",
       "  <tbody>\n",
       "    <tr>\n",
       "      <th>0</th>\n",
       "      <td>14768622</td>\n",
       "      <td>1</td>\n",
       "      <td>MOTOR VEHICLE</td>\n",
       "      <td>N</td>\n",
       "      <td>N</td>\n",
       "      <td>TX</td>\n",
       "      <td>4S2CK57D1X4381118</td>\n",
       "      <td>1999</td>\n",
       "      <td>GRY</td>\n",
       "      <td>ISUZU</td>\n",
       "      <td>...</td>\n",
       "      <td>NA</td>\n",
       "      <td>EAST</td>\n",
       "      <td>Y</td>\n",
       "      <td>0</td>\n",
       "      <td>0</td>\n",
       "      <td>0</td>\n",
       "      <td>1</td>\n",
       "      <td>0</td>\n",
       "      <td>0</td>\n",
       "      <td>0</td>\n",
       "    </tr>\n",
       "    <tr>\n",
       "      <th>1</th>\n",
       "      <td>14838637</td>\n",
       "      <td>1</td>\n",
       "      <td>MOTOR VEHICLE</td>\n",
       "      <td>N</td>\n",
       "      <td>N</td>\n",
       "      <td>TX</td>\n",
       "      <td>WVWAN7AN6DE536582</td>\n",
       "      <td>NA</td>\n",
       "      <td>GRY</td>\n",
       "      <td>VOLKSWAGEN</td>\n",
       "      <td>...</td>\n",
       "      <td>NA</td>\n",
       "      <td>SOUTH</td>\n",
       "      <td>Y</td>\n",
       "      <td>0</td>\n",
       "      <td>0</td>\n",
       "      <td>0</td>\n",
       "      <td>1</td>\n",
       "      <td>0</td>\n",
       "      <td>0</td>\n",
       "      <td>0</td>\n",
       "    </tr>\n",
       "    <tr>\n",
       "      <th>2</th>\n",
       "      <td>14838637</td>\n",
       "      <td>2</td>\n",
       "      <td>MOTOR VEHICLE</td>\n",
       "      <td>N</td>\n",
       "      <td>N</td>\n",
       "      <td>TX</td>\n",
       "      <td>1FUJA6CG24LM14889</td>\n",
       "      <td>2004</td>\n",
       "      <td>RED</td>\n",
       "      <td>FREIGHTLINER</td>\n",
       "      <td>...</td>\n",
       "      <td>NA</td>\n",
       "      <td>SOUTH</td>\n",
       "      <td>Y</td>\n",
       "      <td>0</td>\n",
       "      <td>0</td>\n",
       "      <td>0</td>\n",
       "      <td>1</td>\n",
       "      <td>0</td>\n",
       "      <td>0</td>\n",
       "      <td>0</td>\n",
       "    </tr>\n",
       "    <tr>\n",
       "      <th>3</th>\n",
       "      <td>14838637</td>\n",
       "      <td>2</td>\n",
       "      <td>MOTOR VEHICLE</td>\n",
       "      <td>N</td>\n",
       "      <td>N</td>\n",
       "      <td>TX</td>\n",
       "      <td>1FUJA6CG24LM14889</td>\n",
       "      <td>2004</td>\n",
       "      <td>RED</td>\n",
       "      <td>FREIGHTLINER</td>\n",
       "      <td>...</td>\n",
       "      <td>NA</td>\n",
       "      <td>SOUTH</td>\n",
       "      <td>Y</td>\n",
       "      <td>0</td>\n",
       "      <td>0</td>\n",
       "      <td>0</td>\n",
       "      <td>1</td>\n",
       "      <td>0</td>\n",
       "      <td>0</td>\n",
       "      <td>0</td>\n",
       "    </tr>\n",
       "    <tr>\n",
       "      <th>4</th>\n",
       "      <td>14838637</td>\n",
       "      <td>3</td>\n",
       "      <td>TOWED/TRAILER</td>\n",
       "      <td>None</td>\n",
       "      <td>None</td>\n",
       "      <td>NA</td>\n",
       "      <td>None</td>\n",
       "      <td>NA</td>\n",
       "      <td>NA</td>\n",
       "      <td>NA</td>\n",
       "      <td>...</td>\n",
       "      <td>NA</td>\n",
       "      <td>NOT APPLICABLE</td>\n",
       "      <td>N</td>\n",
       "      <td>0</td>\n",
       "      <td>0</td>\n",
       "      <td>0</td>\n",
       "      <td>0</td>\n",
       "      <td>0</td>\n",
       "      <td>0</td>\n",
       "      <td>0</td>\n",
       "    </tr>\n",
       "  </tbody>\n",
       "</table>\n",
       "<p>5 rows × 37 columns</p>\n",
       "</div>"
      ],
      "text/plain": [
       "   CRASH_ID UNIT_NBR   UNIT_DESC_ID VEH_PARKED_FL VEH_HNR_FL VEH_LIC_STATE_ID  \\\n",
       "0  14768622        1  MOTOR VEHICLE             N          N               TX   \n",
       "1  14838637        1  MOTOR VEHICLE             N          N               TX   \n",
       "2  14838637        2  MOTOR VEHICLE             N          N               TX   \n",
       "3  14838637        2  MOTOR VEHICLE             N          N               TX   \n",
       "4  14838637        3  TOWED/TRAILER          None       None               NA   \n",
       "\n",
       "                 VIN VEH_MOD_YEAR VEH_COLOR_ID   VEH_MAKE_ID  ...  \\\n",
       "0  4S2CK57D1X4381118         1999          GRY         ISUZU  ...   \n",
       "1  WVWAN7AN6DE536582           NA          GRY    VOLKSWAGEN  ...   \n",
       "2  1FUJA6CG24LM14889         2004          RED  FREIGHTLINER  ...   \n",
       "3  1FUJA6CG24LM14889         2004          RED  FREIGHTLINER  ...   \n",
       "4               None           NA           NA            NA  ...   \n",
       "\n",
       "  CONTRIB_FACTR_P1_ID VEH_TRVL_DIR_ID FIRST_HARM_EVT_INV_ID INCAP_INJRY_CNT  \\\n",
       "0                  NA            EAST                     Y               0   \n",
       "1                  NA           SOUTH                     Y               0   \n",
       "2                  NA           SOUTH                     Y               0   \n",
       "3                  NA           SOUTH                     Y               0   \n",
       "4                  NA  NOT APPLICABLE                     N               0   \n",
       "\n",
       "  NONINCAP_INJRY_CNT POSS_INJRY_CNT NON_INJRY_CNT UNKN_INJRY_CNT  \\\n",
       "0                  0              0             1              0   \n",
       "1                  0              0             1              0   \n",
       "2                  0              0             1              0   \n",
       "3                  0              0             1              0   \n",
       "4                  0              0             0              0   \n",
       "\n",
       "  TOT_INJRY_CNT DEATH_CNT  \n",
       "0             0         0  \n",
       "1             0         0  \n",
       "2             0         0  \n",
       "3             0         0  \n",
       "4             0         0  \n",
       "\n",
       "[5 rows x 37 columns]"
      ]
     },
     "execution_count": 9,
     "metadata": {},
     "output_type": "execute_result"
    }
   ],
   "source": [
    "#df_units.show(truncate=0)\n",
    "df_units.limit(5).toPandas().head()"
   ]
  },
  {
   "cell_type": "markdown",
   "metadata": {},
   "source": [
    "# Analysis 1: Find the number of crashes (accidents) in which number of persons killed are male?"
   ]
  },
  {
   "cell_type": "code",
   "execution_count": 99,
   "metadata": {},
   "outputs": [
    {
     "name": "stdout",
     "output_type": "stream",
     "text": [
      "+-------------------------+\n",
      "|PRSN_INJRY_SEV_ID        |\n",
      "+-------------------------+\n",
      "|NA                       |\n",
      "|KILLED                   |\n",
      "|UNKNOWN                  |\n",
      "|NON-INCAPACITATING INJURY|\n",
      "|NOT INJURED              |\n",
      "|POSSIBLE INJURY          |\n",
      "|INCAPACITATING INJURY    |\n",
      "+-------------------------+\n",
      "\n"
     ]
    }
   ],
   "source": [
    "#df_pp.select(\"PRSN_GNDR_ID\").distinct().show(truncate = False)\n",
    "df_pp.select(\"PRSN_INJRY_SEV_ID\").distinct().show(truncate = False)"
   ]
  },
  {
   "cell_type": "code",
   "execution_count": 90,
   "metadata": {},
   "outputs": [
    {
     "name": "stdout",
     "output_type": "stream",
     "text": [
      "180\n"
     ]
    }
   ],
   "source": [
    "# df_pp.select('PRSN_GNDR_ID').distinct().show(truncate = False)\n",
    "#df_pp.select('PRSN_INJRY_SEV_ID').distinct().show(truncate = False)\n",
    "num = df_pp.filter((df_pp.PRSN_GNDR_ID == \"MALE\") & (df_pp.PRSN_INJRY_SEV_ID == \"KILLED\"))\\\n",
    "           .select('CRASH_ID').distinct().count()\n",
    "\n",
    "\n",
    "print(num)"
   ]
  },
  {
   "cell_type": "markdown",
   "metadata": {},
   "source": [
    "# Analysis 2: How many two wheelers are booked for crashes?"
   ]
  },
  {
   "cell_type": "code",
   "execution_count": 91,
   "metadata": {},
   "outputs": [
    {
     "name": "stdout",
     "output_type": "stream",
     "text": [
      "+---------------------------------+\n",
      "|VEH_BODY_STYL_ID                 |\n",
      "+---------------------------------+\n",
      "|BUS                              |\n",
      "|NA                               |\n",
      "|VAN                              |\n",
      "|PICKUP                           |\n",
      "|SPORT UTILITY VEHICLE            |\n",
      "|PASSENGER CAR, 4-DOOR            |\n",
      "|FIRE TRUCK                       |\n",
      "|TRUCK                            |\n",
      "|UNKNOWN                          |\n",
      "|AMBULANCE                        |\n",
      "|POLICE CAR/TRUCK                 |\n",
      "|MOTORCYCLE                       |\n",
      "|YELLOW SCHOOL BUS                |\n",
      "|PASSENGER CAR, 2-DOOR            |\n",
      "|TRUCK TRACTOR                    |\n",
      "|FARM EQUIPMENT                   |\n",
      "|NEV-NEIGHBORHOOD ELECTRIC VEHICLE|\n",
      "|OTHER  (EXPLAIN IN NARRATIVE)    |\n",
      "|POLICE MOTORCYCLE                |\n",
      "|NOT REPORTED                     |\n",
      "+---------------------------------+\n",
      "\n"
     ]
    }
   ],
   "source": [
    "df_units.select(\"VEH_BODY_STYL_ID\").distinct().show(truncate = False)"
   ]
  },
  {
   "cell_type": "code",
   "execution_count": 95,
   "metadata": {},
   "outputs": [
    {
     "data": {
      "text/plain": [
       "784"
      ]
     },
     "execution_count": 95,
     "metadata": {},
     "output_type": "execute_result"
    }
   ],
   "source": [
    "# Filtering units for veh_body_styl_id for two wheeler i.e 'MOTORCYCLE' or 'POLICE_MOTORCYCLE'\n",
    "df_units_two_wheel = df_units.filter((col('VEH_BODY_STYL_ID') == \"MOTORCYCLE\") | (col('VEH_BODY_STYL_ID') == \"POLICE MOTORCYCLE\"))\n",
    "df_units_two_wheel.count()"
   ]
  },
  {
   "cell_type": "markdown",
   "metadata": {},
   "source": [
    "# Analysis 3: Which state has highest number of accidents in which females are involved?"
   ]
  },
  {
   "cell_type": "code",
   "execution_count": 100,
   "metadata": {},
   "outputs": [
    {
     "data": {
      "text/plain": [
       "'Texas'"
      ]
     },
     "execution_count": 100,
     "metadata": {},
     "output_type": "execute_result"
    }
   ],
   "source": [
    "# Filter gender for FEMALE on PRSN_GNDR_ID and getting groupped on DRVR_LIC_STATE_ID desc to get highest number of accident\n",
    "\n",
    "df_pp.select(\"PRSN_GNDR_ID\", \"DRVR_LIC_STATE_ID\").filter(df_pp.PRSN_GNDR_ID == \"FEMALE\")\\\n",
    "        .groupby(\"DRVR_LIC_STATE_ID\").count().orderBy(col(\"count\").desc()).first().DRVR_LIC_STATE_ID\n"
   ]
  },
  {
   "cell_type": "markdown",
   "metadata": {},
   "source": [
    "# Analysis 4: Which are the Top 5th to 15th VEH_MAKE_IDs that contribute to a largest number of injuries including death"
   ]
  },
  {
   "cell_type": "code",
   "execution_count": 32,
   "metadata": {},
   "outputs": [
    {
     "name": "stdout",
     "output_type": "stream",
     "text": [
      "root\n",
      " |-- CRASH_ID: string (nullable = true)\n",
      " |-- UNIT_NBR: string (nullable = true)\n",
      " |-- UNIT_DESC_ID: string (nullable = true)\n",
      " |-- VEH_PARKED_FL: string (nullable = true)\n",
      " |-- VEH_HNR_FL: string (nullable = true)\n",
      " |-- VEH_LIC_STATE_ID: string (nullable = true)\n",
      " |-- VIN: string (nullable = true)\n",
      " |-- VEH_MOD_YEAR: string (nullable = true)\n",
      " |-- VEH_COLOR_ID: string (nullable = true)\n",
      " |-- VEH_MAKE_ID: string (nullable = true)\n",
      " |-- VEH_MOD_ID: string (nullable = true)\n",
      " |-- VEH_BODY_STYL_ID: string (nullable = true)\n",
      " |-- EMER_RESPNDR_FL: string (nullable = true)\n",
      " |-- OWNR_ZIP: string (nullable = true)\n",
      " |-- FIN_RESP_PROOF_ID: string (nullable = true)\n",
      " |-- FIN_RESP_TYPE_ID: string (nullable = true)\n",
      " |-- VEH_DMAG_AREA_1_ID: string (nullable = true)\n",
      " |-- VEH_DMAG_SCL_1_ID: string (nullable = true)\n",
      " |-- FORCE_DIR_1_ID: string (nullable = true)\n",
      " |-- VEH_DMAG_AREA_2_ID: string (nullable = true)\n",
      " |-- VEH_DMAG_SCL_2_ID: string (nullable = true)\n",
      " |-- FORCE_DIR_2_ID: string (nullable = true)\n",
      " |-- VEH_INVENTORIED_FL: string (nullable = true)\n",
      " |-- VEH_TRANSP_NAME: string (nullable = true)\n",
      " |-- VEH_TRANSP_DEST: string (nullable = true)\n",
      " |-- CONTRIB_FACTR_1_ID: string (nullable = true)\n",
      " |-- CONTRIB_FACTR_2_ID: string (nullable = true)\n",
      " |-- CONTRIB_FACTR_P1_ID: string (nullable = true)\n",
      " |-- VEH_TRVL_DIR_ID: string (nullable = true)\n",
      " |-- FIRST_HARM_EVT_INV_ID: string (nullable = true)\n",
      " |-- INCAP_INJRY_CNT: string (nullable = true)\n",
      " |-- NONINCAP_INJRY_CNT: string (nullable = true)\n",
      " |-- POSS_INJRY_CNT: string (nullable = true)\n",
      " |-- NON_INJRY_CNT: string (nullable = true)\n",
      " |-- UNKN_INJRY_CNT: string (nullable = true)\n",
      " |-- TOT_INJRY_CNT: string (nullable = true)\n",
      " |-- DEATH_CNT: string (nullable = true)\n",
      "\n"
     ]
    }
   ],
   "source": [
    "df_units.printSchema()"
   ]
  },
  {
   "cell_type": "code",
   "execution_count": 101,
   "metadata": {},
   "outputs": [
    {
     "name": "stdout",
     "output_type": "stream",
     "text": [
      "+-------------------+\n",
      "|VEH_MAKE_ID        |\n",
      "+-------------------+\n",
      "|AMERICAN IRON HORSE|\n",
      "|ACURA              |\n",
      "|WHITE              |\n",
      "|MOTOR COACH MND INC|\n",
      "|PIERCE             |\n",
      "|PORSCHE            |\n",
      "|WHITEGMC           |\n",
      "|FREIGHTLINER       |\n",
      "|BUELL              |\n",
      "|STERLING           |\n",
      "|HYUNDAI            |\n",
      "|INTERNATIONAL      |\n",
      "|PETER PIRSCH & SONS|\n",
      "|FIAT               |\n",
      "|NA                 |\n",
      "|TOYOTA             |\n",
      "|RAM                |\n",
      "|SUBARU             |\n",
      "|NISSAN             |\n",
      "|IC CORPORATION     |\n",
      "+-------------------+\n",
      "only showing top 20 rows\n",
      "\n"
     ]
    }
   ],
   "source": [
    "df_units.select(\"VEH_MAKE_ID\").distinct().show(truncate = False)"
   ]
  },
  {
   "cell_type": "code",
   "execution_count": 103,
   "metadata": {},
   "outputs": [
    {
     "name": "stdout",
     "output_type": "stream",
     "text": [
      "+-----------+\n",
      "|VEH_MAKE_ID|\n",
      "+-----------+\n",
      "|NISSAN     |\n",
      "|HONDA      |\n",
      "|GMC        |\n",
      "|HYUNDAI    |\n",
      "|KIA        |\n",
      "|JEEP       |\n",
      "|CHRYSLER   |\n",
      "|MAZDA      |\n",
      "|PONTIAC    |\n",
      "|VOLKSWAGEN |\n",
      "|LEXUS      |\n",
      "+-----------+\n",
      "\n"
     ]
    }
   ],
   "source": [
    "# Filtering out PRSN_INJRY_SEV_ID for injury and death and join with units for VEH_MAKE_ID\n",
    "# List of values pertaining to injury including death\n",
    "\n",
    "injury_flag_list = ['KILLED', 'NON-INCAPACITATING INJURY', 'POSSIBLE INJURY', 'INCAPACITATING INJURY']\n",
    "df_pp_join_units = df_pp.filter(col('PRSN_INJRY_SEV_ID').isin(injury_flag_list)) \\\n",
    "                            .select('CRASH_ID', 'UNIT_NBR') \\\n",
    "                            .join(df_units.select(['CRASH_ID', 'UNIT_NBR', 'VEH_MAKE_ID']), ['CRASH_ID', 'UNIT_NBR'], 'inner')\n",
    "\n",
    "# Filtering out NA values for VEH_MAKE_ID and counting unique crashes\n",
    "df_veh_make_id = df_pp_join_units.select('CRASH_ID', 'VEH_MAKE_ID').filter(col('VEH_MAKE_ID')!=\"NA\") \\\n",
    "                    .distinct().groupby('VEH_MAKE_ID').count().orderBy(desc('count'))\n",
    "\n",
    "# Getting rank  on crashes count of each veh_make_id\n",
    "w1 = Window.orderBy(desc('count'))\n",
    "df_rank_veh_make_id = df_veh_make_id.withColumn('dense_rank', dense_rank().over(windowSpec))\n",
    "\n",
    "# Filtering top 5th to 15th veh_make_id\n",
    "df_rank_veh_make_id.filter('dense_rank>=5 AND dense_rank<=15').select(['VEH_MAKE_ID']).show(truncate=False)"
   ]
  },
  {
   "cell_type": "markdown",
   "metadata": {},
   "source": [
    "# Analysis 5: For all the body styles involved in crashes, mention the top ethnic user group of each unique body style"
   ]
  },
  {
   "cell_type": "code",
   "execution_count": 104,
   "metadata": {},
   "outputs": [
    {
     "name": "stdout",
     "output_type": "stream",
     "text": [
      "+--------+-----------------+\n",
      "|CRASH_ID|PRSN_ETHNICITY_ID|\n",
      "+--------+-----------------+\n",
      "|14842987|            BLACK|\n",
      "|14845235|            WHITE|\n",
      "|14847796|            WHITE|\n",
      "|14848985|         HISPANIC|\n",
      "|14849674|            WHITE|\n",
      "|14849994|            ASIAN|\n",
      "|14850477|            WHITE|\n",
      "|14850795|            BLACK|\n",
      "|14850895|            WHITE|\n",
      "|14851253|            BLACK|\n",
      "|14851478|         HISPANIC|\n",
      "|14851529|            BLACK|\n",
      "|14852255|         HISPANIC|\n",
      "|14852370|            WHITE|\n",
      "|14852671|            BLACK|\n",
      "|14852682|            WHITE|\n",
      "|14853923|            BLACK|\n",
      "|14855453|            ASIAN|\n",
      "|14856417|            WHITE|\n",
      "|14858416|            BLACK|\n",
      "+--------+-----------------+\n",
      "only showing top 20 rows\n",
      "\n"
     ]
    }
   ],
   "source": [
    "df_pp.select(\"CRASH_ID\", \"PRSN_ETHNICITY_ID\").distinct().show()"
   ]
  },
  {
   "cell_type": "code",
   "execution_count": 105,
   "metadata": {},
   "outputs": [
    {
     "name": "stdout",
     "output_type": "stream",
     "text": [
      "+---------------------------------+\n",
      "|VEH_BODY_STYL_ID                 |\n",
      "+---------------------------------+\n",
      "|BUS                              |\n",
      "|NA                               |\n",
      "|VAN                              |\n",
      "|PICKUP                           |\n",
      "|SPORT UTILITY VEHICLE            |\n",
      "|PASSENGER CAR, 4-DOOR            |\n",
      "|FIRE TRUCK                       |\n",
      "|TRUCK                            |\n",
      "|UNKNOWN                          |\n",
      "|AMBULANCE                        |\n",
      "|POLICE CAR/TRUCK                 |\n",
      "|MOTORCYCLE                       |\n",
      "|YELLOW SCHOOL BUS                |\n",
      "|PASSENGER CAR, 2-DOOR            |\n",
      "|TRUCK TRACTOR                    |\n",
      "|FARM EQUIPMENT                   |\n",
      "|NEV-NEIGHBORHOOD ELECTRIC VEHICLE|\n",
      "|OTHER  (EXPLAIN IN NARRATIVE)    |\n",
      "|POLICE MOTORCYCLE                |\n",
      "|NOT REPORTED                     |\n",
      "+---------------------------------+\n",
      "\n"
     ]
    }
   ],
   "source": [
    "w2 = Window.partitionBy(\"VEH_BODY_STYL_ID\").orderBy(col(\"count\").desc())\n",
    "df_units.select(\"VEH_BODY_STYL_ID\").distinct().show(truncate = False)"
   ]
  },
  {
   "cell_type": "code",
   "execution_count": 106,
   "metadata": {},
   "outputs": [
    {
     "name": "stdout",
     "output_type": "stream",
     "text": [
      "+----------------+--------------------+-----+\n",
      "|VEH_BODY_STYL_ID|   PRSN_ETHNICITY_ID|count|\n",
      "+----------------+--------------------+-----+\n",
      "|   TRUCK TRACTOR|               BLACK| 2170|\n",
      "|   TRUCK TRACTOR|               ASIAN|  200|\n",
      "|   TRUCK TRACTOR|AMER. INDIAN/ALAS...|   16|\n",
      "|   TRUCK TRACTOR|               OTHER|  343|\n",
      "|   TRUCK TRACTOR|               WHITE| 5815|\n",
      "|   TRUCK TRACTOR|            HISPANIC| 4773|\n",
      "+----------------+--------------------+-----+\n",
      "\n"
     ]
    }
   ],
   "source": [
    "#df_units.join(df_pp, on=['CRASH_ID'], how='inner').\\\n",
    "#filter(~df_units.VEH_BODY_STYL_ID.isin([\"NA\", \"UNKNOWN\", \"NOT REPORTED\", \"OTHER  (EXPLAIN IN NARRATIVE)\"])).\\\n",
    "#filter(~df_pp.PRSN_ETHNICITY_ID.isin([\"NA\", \"UNKNOWN\"])).\\\n",
    "#groupby(\"VEH_BODY_STYL_ID\", \"PRSN_ETHNICITY_ID\").count().show()\n",
    "\n",
    "df_units.join(df_pp, on=['CRASH_ID'], how='inner').\\\n",
    "filter(~df_units.VEH_BODY_STYL_ID.isin([\"NA\", \"UNKNOWN\", \"NOT REPORTED\", \"OTHER  (EXPLAIN IN NARRATIVE)\"])).\\\n",
    "filter(~df_pp.PRSN_ETHNICITY_ID.isin([\"NA\", \"UNKNOWN\"])).\\\n",
    "groupby(\"VEH_BODY_STYL_ID\", \"PRSN_ETHNICITY_ID\").count().filter(col(\"VEH_BODY_STYL_ID\") == \"TRUCK TRACTOR\").show()"
   ]
  },
  {
   "cell_type": "code",
   "execution_count": 107,
   "metadata": {
    "scrolled": true
   },
   "outputs": [
    {
     "name": "stdout",
     "output_type": "stream",
     "text": [
      "+---------------------------------+-----------------+-----+\n",
      "|VEH_BODY_STYL_ID                 |PRSN_ETHNICITY_ID|count|\n",
      "+---------------------------------+-----------------+-----+\n",
      "|AMBULANCE                        |WHITE            |97   |\n",
      "|BUS                              |HISPANIC         |391  |\n",
      "|FARM EQUIPMENT                   |WHITE            |63   |\n",
      "|FIRE TRUCK                       |WHITE            |112  |\n",
      "|MOTORCYCLE                       |WHITE            |848  |\n",
      "|NEV-NEIGHBORHOOD ELECTRIC VEHICLE|WHITE            |10   |\n",
      "|PASSENGER CAR, 2-DOOR            |WHITE            |9877 |\n",
      "|PASSENGER CAR, 4-DOOR            |WHITE            |58312|\n",
      "|PICKUP                           |WHITE            |38609|\n",
      "|POLICE CAR/TRUCK                 |WHITE            |366  |\n",
      "|POLICE MOTORCYCLE                |HISPANIC         |3    |\n",
      "|SPORT UTILITY VEHICLE            |WHITE            |33902|\n",
      "|TRUCK                            |WHITE            |4204 |\n",
      "|TRUCK TRACTOR                    |WHITE            |5815 |\n",
      "|VAN                              |WHITE            |5291 |\n",
      "|YELLOW SCHOOL BUS                |WHITE            |264  |\n",
      "+---------------------------------+-----------------+-----+\n",
      "\n"
     ]
    }
   ],
   "source": [
    "df_units.join(df_pp, on=['CRASH_ID'], how='inner').\\\n",
    "filter(~df_units.VEH_BODY_STYL_ID.isin([\"NA\", \"UNKNOWN\", \"NOT REPORTED\", \"OTHER  (EXPLAIN IN NARRATIVE)\"])).\\\n",
    "filter(~df_pp.PRSN_ETHNICITY_ID.isin([\"NA\", \"UNKNOWN\"])).\\\n",
    "groupby(\"VEH_BODY_STYL_ID\", \"PRSN_ETHNICITY_ID\").count().\\\n",
    "withColumn('dense_rank',  dense_rank().over(w2)).filter(col('dense_rank') == 1).drop(\"dense_rank\").show(truncate=False)"
   ]
  },
  {
   "cell_type": "markdown",
   "metadata": {},
   "source": [
    "# Analysis 6: Among the crashed cars, what are the Top 5 Zip Codes with highest number crashes with alcohols as the contributing factor to a crash (Use Driver Zip Code)"
   ]
  },
  {
   "cell_type": "code",
   "execution_count": 24,
   "metadata": {},
   "outputs": [
    {
     "name": "stdout",
     "output_type": "stream",
     "text": [
      "+--------+\n",
      "|DRVR_ZIP|\n",
      "+--------+\n",
      "|75007   |\n",
      "|78073   |\n",
      "|77371   |\n",
      "|79849   |\n",
      "|77339   |\n",
      "|77303   |\n",
      "|78382   |\n",
      "|75602   |\n",
      "|72472   |\n",
      "|770598  |\n",
      "|84606   |\n",
      "|71047   |\n",
      "|788559  |\n",
      "|79504   |\n",
      "|78211   |\n",
      "|70665   |\n",
      "|79360   |\n",
      "|77872   |\n",
      "|74745   |\n",
      "|78022   |\n",
      "+--------+\n",
      "only showing top 20 rows\n",
      "\n"
     ]
    }
   ],
   "source": [
    "df_pp.select(\"DRVR_ZIP\").distinct().show(truncate=False)"
   ]
  },
  {
   "cell_type": "code",
   "execution_count": 27,
   "metadata": {},
   "outputs": [
    {
     "name": "stdout",
     "output_type": "stream",
     "text": [
      "+-------------------------+\n",
      "|CONTRIB_FACTR_1_ID       |\n",
      "+-------------------------+\n",
      "|UNDER INFLUENCE - ALCOHOL|\n",
      "|UNDER INFLUENCE - ALCOHOL|\n",
      "|UNDER INFLUENCE - ALCOHOL|\n",
      "|UNDER INFLUENCE - ALCOHOL|\n",
      "|UNDER INFLUENCE - ALCOHOL|\n",
      "|UNDER INFLUENCE - ALCOHOL|\n",
      "|UNDER INFLUENCE - ALCOHOL|\n",
      "|UNDER INFLUENCE - ALCOHOL|\n",
      "|UNDER INFLUENCE - ALCOHOL|\n",
      "|UNDER INFLUENCE - ALCOHOL|\n",
      "|UNDER INFLUENCE - ALCOHOL|\n",
      "|UNDER INFLUENCE - ALCOHOL|\n",
      "|UNDER INFLUENCE - ALCOHOL|\n",
      "|UNDER INFLUENCE - ALCOHOL|\n",
      "|UNDER INFLUENCE - ALCOHOL|\n",
      "|UNDER INFLUENCE - ALCOHOL|\n",
      "|UNDER INFLUENCE - ALCOHOL|\n",
      "|UNDER INFLUENCE - ALCOHOL|\n",
      "|UNDER INFLUENCE - ALCOHOL|\n",
      "|UNDER INFLUENCE - ALCOHOL|\n",
      "+-------------------------+\n",
      "only showing top 20 rows\n",
      "\n"
     ]
    }
   ],
   "source": [
    "df_units.filter(col(\"CONTRIB_FACTR_1_ID\").contains(\"ALCOHOL\")).select(\"CONTRIB_FACTR_1_ID\").show(truncate = False)"
   ]
  },
  {
   "cell_type": "code",
   "execution_count": 28,
   "metadata": {},
   "outputs": [
    {
     "name": "stdout",
     "output_type": "stream",
     "text": [
      "+-------------------------+\n",
      "|CONTRIB_FACTR_2_ID       |\n",
      "+-------------------------+\n",
      "|UNDER INFLUENCE - ALCOHOL|\n",
      "|UNDER INFLUENCE - ALCOHOL|\n",
      "|UNDER INFLUENCE - ALCOHOL|\n",
      "|UNDER INFLUENCE - ALCOHOL|\n",
      "|UNDER INFLUENCE - ALCOHOL|\n",
      "|UNDER INFLUENCE - ALCOHOL|\n",
      "|UNDER INFLUENCE - ALCOHOL|\n",
      "|UNDER INFLUENCE - ALCOHOL|\n",
      "|UNDER INFLUENCE - ALCOHOL|\n",
      "|UNDER INFLUENCE - ALCOHOL|\n",
      "|UNDER INFLUENCE - ALCOHOL|\n",
      "|UNDER INFLUENCE - ALCOHOL|\n",
      "|UNDER INFLUENCE - ALCOHOL|\n",
      "|UNDER INFLUENCE - ALCOHOL|\n",
      "|UNDER INFLUENCE - ALCOHOL|\n",
      "|UNDER INFLUENCE - ALCOHOL|\n",
      "|UNDER INFLUENCE - ALCOHOL|\n",
      "|UNDER INFLUENCE - ALCOHOL|\n",
      "|UNDER INFLUENCE - ALCOHOL|\n",
      "|UNDER INFLUENCE - ALCOHOL|\n",
      "+-------------------------+\n",
      "only showing top 20 rows\n",
      "\n"
     ]
    }
   ],
   "source": [
    "df_units.filter(col(\"CONTRIB_FACTR_2_ID\").contains(\"ALCOHOL\")).select(\"CONTRIB_FACTR_2_ID\").show(truncate = False)"
   ]
  },
  {
   "cell_type": "code",
   "execution_count": 30,
   "metadata": {},
   "outputs": [
    {
     "name": "stdout",
     "output_type": "stream",
     "text": [
      "+--------+-----+\n",
      "|DRVR_ZIP|count|\n",
      "+--------+-----+\n",
      "|76010   |75   |\n",
      "|78521   |61   |\n",
      "|75067   |54   |\n",
      "|78574   |47   |\n",
      "|75052   |43   |\n",
      "+--------+-----+\n",
      "\n"
     ]
    }
   ],
   "source": [
    "# Using contributing factor and dropping null values\n",
    "df = df_units.join(df_pp, on=['CRASH_ID'], how='inner').\\\n",
    "dropna(subset=[\"DRVR_ZIP\"]).\\\n",
    "filter(col(\"CONTRIB_FACTR_1_ID\").contains(\"ALCOHOL\") | col(\"CONTRIB_FACTR_2_ID\").contains(\"ALCOHOL\")).\\\n",
    "groupby(\"DRVR_ZIP\").count().orderBy(col(\"count\").desc()).limit(5)\n",
    "\n",
    "df.show(truncate = False)"
   ]
  },
  {
   "cell_type": "markdown",
   "metadata": {},
   "source": [
    "# Analysis 7: Count of Distinct Crash IDs where No Damaged Property was observed and Damage Level (VEH_DMAG_SCL~) is above 4 and car avails Insurance"
   ]
  },
  {
   "cell_type": "code",
   "execution_count": 32,
   "metadata": {},
   "outputs": [
    {
     "name": "stdout",
     "output_type": "stream",
     "text": [
      "+-------------+\n",
      "|VEH_PARKED_FL|\n",
      "+-------------+\n",
      "|            N|\n",
      "|            N|\n",
      "|            N|\n",
      "|            N|\n",
      "|            N|\n",
      "|            N|\n",
      "|            N|\n",
      "|            N|\n",
      "|            N|\n",
      "|            N|\n",
      "|            Y|\n",
      "|            Y|\n",
      "|            N|\n",
      "|            N|\n",
      "|            N|\n",
      "|            N|\n",
      "|            N|\n",
      "|            Y|\n",
      "|            Y|\n",
      "|            Y|\n",
      "+-------------+\n",
      "only showing top 20 rows\n",
      "\n"
     ]
    }
   ],
   "source": [
    "df_units.dropna(subset = [\"VEH_PARKED_FL\"]).select(\"VEH_PARKED_FL\").show()"
   ]
  },
  {
   "cell_type": "code",
   "execution_count": 108,
   "metadata": {},
   "outputs": [
    {
     "name": "stdout",
     "output_type": "stream",
     "text": [
      "+----------------------------------------+\n",
      "|FIN_RESP_TYPE_ID                        |\n",
      "+----------------------------------------+\n",
      "|INSURANCE BINDER                        |\n",
      "|LIABILITY INSURANCE POLICY              |\n",
      "|NA                                      |\n",
      "|CERTIFICATE OF SELF-INSURANCE           |\n",
      "|CERTIFICATE OF DEPOSIT WITH COMPTROLLER |\n",
      "|SURETY BOND                             |\n",
      "|PROOF OF LIABILITY INSURANCE            |\n",
      "|CERTIFICATE OF DEPOSIT WITH COUNTY JUDGE|\n",
      "+----------------------------------------+\n",
      "\n"
     ]
    }
   ],
   "source": [
    "df_units.select(\"FIN_RESP_TYPE_ID\").distinct().show(truncate = False)"
   ]
  },
  {
   "cell_type": "code",
   "execution_count": 109,
   "metadata": {},
   "outputs": [
    {
     "name": "stdout",
     "output_type": "stream",
     "text": [
      "+-----------------+\n",
      "|VEH_DMAG_SCL_1_ID|\n",
      "+-----------------+\n",
      "|DAMAGED 4        |\n",
      "|INVALID VALUE    |\n",
      "|NA               |\n",
      "|DAMAGED 5        |\n",
      "|DAMAGED 1 MINIMUM|\n",
      "|DAMAGED 3        |\n",
      "|NO DAMAGE        |\n",
      "|DAMAGED 7 HIGHEST|\n",
      "|DAMAGED 2        |\n",
      "|DAMAGED 6        |\n",
      "+-----------------+\n",
      "\n"
     ]
    }
   ],
   "source": [
    "df_units.select(\"VEH_DMAG_SCL_1_ID\").distinct().show(truncate = False)"
   ]
  },
  {
   "cell_type": "code",
   "execution_count": 110,
   "metadata": {},
   "outputs": [
    {
     "name": "stdout",
     "output_type": "stream",
     "text": [
      "+-----------------+\n",
      "|VEH_DMAG_SCL_2_ID|\n",
      "+-----------------+\n",
      "|DAMAGED 4        |\n",
      "|INVALID VALUE    |\n",
      "|NA               |\n",
      "|DAMAGED 5        |\n",
      "|DAMAGED 1 MINIMUM|\n",
      "|DAMAGED 3        |\n",
      "|NO DAMAGE        |\n",
      "|DAMAGED 7 HIGHEST|\n",
      "|DAMAGED 2        |\n",
      "|DAMAGED 6        |\n",
      "+-----------------+\n",
      "\n"
     ]
    }
   ],
   "source": [
    "df_units.select(\"VEH_DMAG_SCL_2_ID\").distinct().show(truncate = False)"
   ]
  },
  {
   "cell_type": "code",
   "execution_count": 112,
   "metadata": {},
   "outputs": [
    {
     "data": {
      "text/plain": [
       "7"
      ]
     },
     "execution_count": 112,
     "metadata": {},
     "output_type": "execute_result"
    }
   ],
   "source": [
    "# Damage id above damage level 4\n",
    "damage_id = ['DAMAGED 5', 'DAMAGED 6', 'DAMAGED 7 HIGHEST']\n",
    "# Considering PROOF OF LIABILITY INSURANCE is filter for insurance\n",
    "df_damages.join(df_units, on=[\"CRASH_ID\"], how='inner')\\\n",
    ".filter((df_units.VEH_DMAG_SCL_1_ID.isin(damage_id))  | (df_units.VEH_DMAG_SCL_2_ID.isin(damage_id)))\\\n",
    ".filter(df_damages.DAMAGED_PROPERTY == \"NONE\")\\\n",
    ".filter(col(\"FIN_RESP_TYPE_ID\").contains(\"PROOF OF LIABILITY INSURANCE\")).\\\n",
    "select(\"CRASH_ID\", \"VEH_DMAG_SCL_1_ID\", \"VEH_DMAG_SCL_2_ID\", \"FIN_RESP_TYPE_ID\", \"DAMAGED_PROPERTY\").count()\n",
    "\n"
   ]
  },
  {
   "cell_type": "markdown",
   "metadata": {},
   "source": [
    "# 8.\tAnalysis 8: Determine the Top 5 Vehicle Makes where drivers are charged with speeding related offences, has licensed Drivers, used top 10 used vehicle colours and has car licensed with the Top 25 states with highest number of offences (to be deduced from the data)"
   ]
  },
  {
   "cell_type": "code",
   "execution_count": 53,
   "metadata": {},
   "outputs": [
    {
     "name": "stdout",
     "output_type": "stream",
     "text": [
      "+------------+\n",
      "|VEH_COLOR_ID|\n",
      "+------------+\n",
      "|RED         |\n",
      "|TEA         |\n",
      "|BLK         |\n",
      "|ONG         |\n",
      "|YEL         |\n",
      "|GLD         |\n",
      "|NA          |\n",
      "|99          |\n",
      "|CAM         |\n",
      "|BRZ         |\n",
      "|TRQ         |\n",
      "|SIL         |\n",
      "|CPR         |\n",
      "|BRO         |\n",
      "|PLE         |\n",
      "|BLU         |\n",
      "|MAR         |\n",
      "|BGE         |\n",
      "|PNK         |\n",
      "|WHI         |\n",
      "|TAN         |\n",
      "|MUL         |\n",
      "|GRN         |\n",
      "|GRY         |\n",
      "|98          |\n",
      "+------------+\n",
      "\n"
     ]
    }
   ],
   "source": [
    "df_units.select(\"VEH_COLOR_ID\").distinct().show(100, truncate = False)"
   ]
  },
  {
   "cell_type": "code",
   "execution_count": 54,
   "metadata": {},
   "outputs": [
    {
     "name": "stdout",
     "output_type": "stream",
     "text": [
      "+------------+-----+\n",
      "| VEH_MAKE_ID|count|\n",
      "+------------+-----+\n",
      "|        FORD|29792|\n",
      "|   CHEVROLET|28073|\n",
      "|      TOYOTA|16487|\n",
      "|       DODGE|13091|\n",
      "|      NISSAN|10964|\n",
      "|       HONDA|10460|\n",
      "|          NA| 6234|\n",
      "|         GMC| 5044|\n",
      "|        JEEP| 4170|\n",
      "|     HYUNDAI| 3859|\n",
      "|         KIA| 3186|\n",
      "|    CHRYSLER| 3144|\n",
      "|FREIGHTLINER| 2861|\n",
      "|       MAZDA| 2585|\n",
      "|     PONTIAC| 2144|\n",
      "|  VOLKSWAGEN| 2141|\n",
      "|       LEXUS| 2087|\n",
      "|       BUICK| 1965|\n",
      "|    CADILLAC| 1796|\n",
      "|  MITSUBISHI| 1756|\n",
      "+------------+-----+\n",
      "only showing top 20 rows\n",
      "\n"
     ]
    }
   ],
   "source": [
    "df_units.groupby(\"VEH_MAKE_ID\").count().orderBy(col(\"count\").desc()).show()"
   ]
  },
  {
   "cell_type": "code",
   "execution_count": 66,
   "metadata": {},
   "outputs": [
    {
     "name": "stdout",
     "output_type": "stream",
     "text": [
      "+----------------+------+\n",
      "|VEH_LIC_STATE_ID| count|\n",
      "+----------------+------+\n",
      "|              TX|156997|\n",
      "|              NA|  6065|\n",
      "|              UN|  1791|\n",
      "|              OK|   970|\n",
      "|              LA|   782|\n",
      "|              NM|   731|\n",
      "|              IN|   544|\n",
      "|              MX|   493|\n",
      "|              CA|   482|\n",
      "|              FL|   416|\n",
      "|              IL|   370|\n",
      "|              AR|   350|\n",
      "|              TN|   304|\n",
      "|              MS|   244|\n",
      "|              AZ|   236|\n",
      "|              KS|   186|\n",
      "|              GA|   177|\n",
      "|              MO|   177|\n",
      "|              CO|   175|\n",
      "|              NC|   159|\n",
      "|              AL|   145|\n",
      "|              OH|   127|\n",
      "|              MI|   122|\n",
      "|              MN|   113|\n",
      "|              98|   109|\n",
      "|              WI|   101|\n",
      "|              VA|    98|\n",
      "|              NE|    88|\n",
      "|              WA|    85|\n",
      "|              IA|    79|\n",
      "|              UT|    75|\n",
      "|              OR|    71|\n",
      "|              PA|    70|\n",
      "|              SC|    63|\n",
      "|              CD|    57|\n",
      "|              NY|    50|\n",
      "|              KY|    45|\n",
      "|              NV|    41|\n",
      "|              MD|    40|\n",
      "|              NJ|    34|\n",
      "|              MT|    31|\n",
      "|              ID|    28|\n",
      "|              ND|    26|\n",
      "|              CT|    21|\n",
      "|              SD|    20|\n",
      "|              WY|    19|\n",
      "|              AK|    16|\n",
      "|              MA|    11|\n",
      "|              AS|    10|\n",
      "|              WV|    10|\n",
      "|              NH|     8|\n",
      "|              ME|     7|\n",
      "|              US|     7|\n",
      "|              RI|     6|\n",
      "|              VT|     5|\n",
      "|              HI|     5|\n",
      "|              DE|     4|\n",
      "|              DS|     2|\n",
      "|              DC|     1|\n",
      "+----------------+------+\n",
      "\n"
     ]
    }
   ],
   "source": [
    "#df_units.columns\n",
    "#df_units.printSchema()\n",
    "#df_units.select(\"VEH_LIC_STATE_ID\").distinct().show(100, truncate = False)\n",
    "#df_units.groupby(\"VEH_LIC_STATE_ID\").count().orderBy(col(\"count\").desc()).show(100)\n",
    "#df_units.filter(col(\"VEH_LIC_STATE_ID\").cast(\"int\").isNull()).groupby(\"VEH_LIC_STATE_ID\").count().orderBy(col(\"count\").desc()).show(100)\n",
    "df_units.groupby(\"VEH_LIC_STATE_ID\").count().orderBy(col(\"count\").desc()).show(100)\n"
   ]
  },
  {
   "cell_type": "code",
   "execution_count": 68,
   "metadata": {},
   "outputs": [
    {
     "name": "stdout",
     "output_type": "stream",
     "text": [
      "+----------------------+\n",
      "|DRVR_LIC_TYPE_ID      |\n",
      "+----------------------+\n",
      "|NA                    |\n",
      "|COMMERCIAL DRIVER LIC.|\n",
      "|ID CARD               |\n",
      "|UNKNOWN               |\n",
      "|OCCUPATIONAL          |\n",
      "|UNLICENSED            |\n",
      "|OTHER                 |\n",
      "|DRIVER LICENSE        |\n",
      "+----------------------+\n",
      "\n",
      "+----------------------+\n",
      "|DRVR_LIC_TYPE_ID      |\n",
      "+----------------------+\n",
      "|COMMERCIAL DRIVER LIC.|\n",
      "|DRIVER LICENSE        |\n",
      "+----------------------+\n",
      "\n"
     ]
    }
   ],
   "source": [
    "df_pp.select(\"DRVR_LIC_TYPE_ID\").distinct().show(100, truncate = False)\n",
    "# Filtering DRVR_LIC_TYPE_ID on licensed drivers\n",
    "df_pp.filter(df_pp.DRVR_LIC_TYPE_ID.isin([\"COMMERCIAL DRIVER LIC.\", \"DRIVER LICENSE\"])).select(\"DRVR_LIC_TYPE_ID\").distinct().show(100, truncate = False)\n"
   ]
  },
  {
   "cell_type": "code",
   "execution_count": 71,
   "metadata": {},
   "outputs": [
    {
     "name": "stdout",
     "output_type": "stream",
     "text": [
      "+------------------------------------------------------------+\n",
      "|CHARGE                                                      |\n",
      "+------------------------------------------------------------+\n",
      "|FAIL TO PASS SAFELY TO THE LEFT                             |\n",
      "|DRIVING W/O LICENSE                                         |\n",
      "|FAIL TO PASS LEFT SAFELY                                    |\n",
      "|UNSAFE SPEED/ DISPLAY EX REG                                |\n",
      "|WRONG SIDE OF ROAD - NOT PASSING                            |\n",
      "|FAIL TO YIELD AT YIELD INTERSTECTION                        |\n",
      "|FAILED TO YIELD R.O.W (STOP SIGN) ACC                       |\n",
      "|RIDE NOT SECURE BY SAFETY BELT-DRIVER                       |\n",
      "|FAILURE TO CONTROL SPEED, NO DRIVER LICENSE                 |\n",
      "|FAILURE TO CONTROL SPEED ACCIDENT                           |\n",
      "|FAILED TO STOP - STOP SIGN                                  |\n",
      "|FAIL TO DRIVE INSINGLE LANE                                 |\n",
      "|FAIL STOP AND GIVE INFO                                     |\n",
      "|550.024(A)-DUTY UPON STRIKING UNATTENDED VEHICLE            |\n",
      "|F/T Y ROW MAKING LEFT TURN                                  |\n",
      "|EXP REGISTRATION 12/15                                      |\n",
      "|FYROW-STOP INTERSECTION                                     |\n",
      "|FTYROW OPEN DRIVE                                           |\n",
      "|UNSAFE LANE CHANGE-SUMMONS                                  |\n",
      "|POSSESSION OF A CONTROLLED SUBSTANCE W/ INTENT TO DISTRIBUTE|\n",
      "+------------------------------------------------------------+\n",
      "only showing top 20 rows\n",
      "\n",
      "+--------------------------------------------------------------+\n",
      "|CHARGE                                                        |\n",
      "+--------------------------------------------------------------+\n",
      "|UNSAFE SPEED/ DISPLAY EX REG                                  |\n",
      "|FAILURE TO CONTROL SPEED, NO DRIVER LICENSE                   |\n",
      "|FAILURE TO CONTROL SPEED ACCIDENT                             |\n",
      "|FT CONTROL SPEED C/A                                          |\n",
      "|TC545.351 FAIL TO CONTROL SPEED                               |\n",
      "|UNSAFE SPEED -CONDITIONS/RAIN                                 |\n",
      "|FAIL TO CONTROL SPEED/ACCIDENT                                |\n",
      "|FAIL TO CONTROL SPEED (RUST)                                  |\n",
      "|FAILT TO CONTROL MOTOR VEHICLE -SPEED                         |\n",
      "|FAILURE TO CONTROL SPEED-ACC, NO DL                           |\n",
      "|FAIL TO CONTROL SPEED TO AVOID ACCIDENT                       |\n",
      "|FAILURE TON CONTROL SPEED TO AVOID COLLISION                  |\n",
      "|UNSAFE SPEED OF WEATHER CONDITIONS                            |\n",
      "|ACCIDENT+FAILURE TO CONTROL SPEED                             |\n",
      "|FAIL TO CONTROL SPEED/CA                                      |\n",
      "|\"FAIL TO CONTROL SPEED COLLIDE WITH FIXED OBJECT \"\"ACCIDENT\"\"\"|\n",
      "|NO DRIVERS LICENSE FAIL TO CONTROL SPEED                      |\n",
      "|FAIL TO CONTROL SPEED --- ACC                                 |\n",
      "|FAIL TOO CONTROL SPEED                                        |\n",
      "|INCREASED SPEED WHILE BEING OVERTAKEN                         |\n",
      "+--------------------------------------------------------------+\n",
      "only showing top 20 rows\n",
      "\n"
     ]
    }
   ],
   "source": [
    "df_charges.select(\"CHARGE\").distinct().show(truncate = False)\n",
    "# Filtering charge for speed\n",
    "df_charges.select(\"CHARGE\").filter(df_charges.CHARGE.contains(\"SPEED\")).distinct().show( truncate = False)"
   ]
  },
  {
   "cell_type": "code",
   "execution_count": 73,
   "metadata": {},
   "outputs": [
    {
     "name": "stdout",
     "output_type": "stream",
     "text": [
      "+------------+----------------+-----------+-----+\n",
      "|VEH_COLOR_ID|VEH_LIC_STATE_ID|VEH_MAKE_ID|count|\n",
      "+------------+----------------+-----------+-----+\n",
      "|WHI         |TX              |FORD       |5581 |\n",
      "|WHI         |TX              |CHEVROLET  |4514 |\n",
      "|NA          |NA              |NA         |4148 |\n",
      "|BLK         |TX              |FORD       |3062 |\n",
      "|BLK         |TX              |CHEVROLET  |2861 |\n",
      "|WHI         |TX              |TOYOTA     |2480 |\n",
      "|RED         |TX              |FORD       |2095 |\n",
      "|SIL         |TX              |TOYOTA     |2079 |\n",
      "|SIL         |TX              |CHEVROLET  |1888 |\n",
      "|WHI         |TX              |DODGE      |1860 |\n",
      "|GRY         |TX              |FORD       |1801 |\n",
      "|GRY         |TX              |TOYOTA     |1750 |\n",
      "|SIL         |TX              |FORD       |1744 |\n",
      "|BLU         |TX              |FORD       |1712 |\n",
      "|BLK         |TX              |TOYOTA     |1632 |\n",
      "|GRY         |TX              |CHEVROLET  |1609 |\n",
      "|BLK         |TX              |NISSAN     |1518 |\n",
      "|BLK         |TX              |DODGE      |1475 |\n",
      "|BLU         |TX              |CHEVROLET  |1404 |\n",
      "|RED         |TX              |CHEVROLET  |1401 |\n",
      "+------------+----------------+-----------+-----+\n",
      "only showing top 20 rows\n",
      "\n"
     ]
    }
   ],
   "source": [
    "# Filtering DRVR_LIC_TYPE_ID on licensed drivers\n",
    "# Filtering charge for speed\n",
    "# charge join to units for make_id\n",
    "df = df_charges.join(df_pp, on=['CRASH_ID'], how='inner').\\\n",
    "join(df_units,  on=['CRASH_ID'], how='inner').\\\n",
    "filter(df_charges.CHARGE.contains(\"SPEED\")).\\\n",
    "filter(df_pp.DRVR_LIC_TYPE_ID.isin([\"DRIVER LICENSE\", \"COMMERCIAL DRIVER LIC.\"])).\\\n",
    "groupby(\"VEH_COLOR_ID\", \"VEH_LIC_STATE_ID\", \"VEH_MAKE_ID\").count().orderBy(col(\"count\").desc())\n",
    "df.show(truncate = False)"
   ]
  },
  {
   "cell_type": "code",
   "execution_count": 79,
   "metadata": {},
   "outputs": [
    {
     "name": "stdout",
     "output_type": "stream",
     "text": [
      "['TX', 'NA', 'UN', 'OK', 'LA', 'NM', 'IN', 'MX', 'CA', 'FL', 'IL', 'AR', 'TN', 'MS', 'AZ', 'KS', 'GA', 'MO', 'CO', 'NC', 'AL', 'OH', 'MI', 'MN', '98']\n",
      "['WHI', 'BLK', 'SIL', 'GRY', 'BLU', 'RED', 'GRN', 'MAR', 'TAN', 'GLD']\n"
     ]
    }
   ],
   "source": [
    "#df_units.na.drop(subset=[\"VEH_LIC_STATE_ID\"]).groupby(\"VEH_LIC_STATE_ID\").count().orderBy(col(\"count\").desc()).limit(25).show(truncate=False)\n",
    "#df_units.na.drop(subset=[\"VEH_LIC_STATE_ID\"]).groupby(\"VEH_LIC_STATE_ID\").count().orderBy(col(\"count\").desc()).limit(25).show(truncate=False)\n",
    "# Getting top 25 states and top 1- vehicle color\n",
    "top_25_states = [row[0] for row in df_units.na.drop(subset=[\"VEH_LIC_STATE_ID\"]).groupby(\"VEH_LIC_STATE_ID\").count().orderBy(col(\"count\").desc()).limit(25).collect()]\n",
    "\n",
    "top_10_vehicle_colors = [row[0] for row in df_units.filter(df_units.VEH_COLOR_ID != \"NA\").groupby(\"VEH_COLOR_ID\").count().orderBy(col(\"count\").desc()).limit(10).collect()]\n",
    "\n",
    "print(top_25_states)\n",
    "print(top_10_vehicle_colors)"
   ]
  },
  {
   "cell_type": "code",
   "execution_count": 82,
   "metadata": {},
   "outputs": [
    {
     "name": "stdout",
     "output_type": "stream",
     "text": [
      "+-----------+-----+\n",
      "|VEH_MAKE_ID|count|\n",
      "+-----------+-----+\n",
      "|FORD       |19212|\n",
      "|CHEVROLET  |16864|\n",
      "|TOYOTA     |11826|\n",
      "|DODGE      |7945 |\n",
      "|NISSAN     |7332 |\n",
      "+-----------+-----+\n",
      "only showing top 5 rows\n",
      "\n"
     ]
    }
   ],
   "source": [
    "df_charges.join(df_pp, on=['CRASH_ID'], how='inner'). \\\n",
    "join(df_units, on=['CRASH_ID'], how='inner'). \\\n",
    "filter(df_charges.CHARGE.contains(\"SPEED\")). \\\n",
    "filter(df_pp.DRVR_LIC_TYPE_ID.isin([\"DRIVER LICENSE\", \"COMMERCIAL DRIVER LIC.\"])).\\\n",
    "filter(df_units.VEH_COLOR_ID.isin(top_10_vehicle_colors)).\\\n",
    "filter(df_units.VEH_LIC_STATE_ID.isin(top_25_states)).\\\n",
    "groupby(\"VEH_MAKE_ID\").count().\\\n",
    "orderBy(col(\"count\").desc()).show(5, truncate = False)"
   ]
  }
 ],
 "metadata": {
  "kernelspec": {
   "display_name": "Python 3",
   "language": "python",
   "name": "python3"
  },
  "language_info": {
   "codemirror_mode": {
    "name": "ipython",
    "version": 3
   },
   "file_extension": ".py",
   "mimetype": "text/x-python",
   "name": "python",
   "nbconvert_exporter": "python",
   "pygments_lexer": "ipython3",
   "version": "3.8.3"
  }
 },
 "nbformat": 4,
 "nbformat_minor": 4
}
